{
  "nbformat": 4,
  "nbformat_minor": 0,
  "metadata": {
    "colab": {
      "provenance": [],
      "authorship_tag": "ABX9TyOxvU/czSo7mVeHnH/q20Ua",
      "include_colab_link": true
    },
    "kernelspec": {
      "name": "python3",
      "display_name": "Python 3"
    },
    "language_info": {
      "name": "python"
    }
  },
  "cells": [
    {
      "cell_type": "markdown",
      "metadata": {
        "id": "view-in-github",
        "colab_type": "text"
      },
      "source": [
        "<a href=\"https://colab.research.google.com/github/Aswin-1121/ICT-DSA/blob/main/python_practise_assignment%20.ipynb\" target=\"_parent\"><img src=\"https://colab.research.google.com/assets/colab-badge.svg\" alt=\"Open In Colab\"/></a>"
      ]
    },
    {
      "cell_type": "markdown",
      "source": [
        "# Practice problems"
      ],
      "metadata": {
        "id": "EVIu3VygU3N1"
      }
    },
    {
      "cell_type": "code",
      "execution_count": null,
      "metadata": {
        "colab": {
          "base_uri": "https://localhost:8080/"
        },
        "id": "9LtCfsFtndYO",
        "outputId": "585a4ca9-a481-4fb5-fe5c-40c43b4de86d"
      },
      "outputs": [
        {
          "output_type": "stream",
          "name": "stdout",
          "text": [
            "Enter the radius:\n",
            "4\n",
            "Area of circle is: 50.26548245743669\n"
          ]
        }
      ],
      "source": [
        "from math import pi\n",
        "r = int(input(\"Enter the radius:\\n\"))\n",
        "area = pi * r**2\n",
        "print (\"Area of circle is:\",area)"
      ]
    },
    {
      "cell_type": "code",
      "source": [
        "name = input(\"Enter the name:\\n\")\n",
        "Rollno = int(input(\"Enter the Rollno:\\n\"))\n",
        "Mark = int(input(\"Enter the Mark:\\n\"))\n",
        "print(  \"Name:\",name,\"\\n\",\"Rollnumber:\",Rollno,\"\\n\",\"Mark:\",Mark)"
      ],
      "metadata": {
        "colab": {
          "base_uri": "https://localhost:8080/"
        },
        "id": "yh3GZkcCnnQO",
        "outputId": "51c04f32-ef66-4800-af65-f521539d0c15"
      },
      "execution_count": null,
      "outputs": [
        {
          "output_type": "stream",
          "name": "stdout",
          "text": [
            "Enter the name:\n",
            "Aswin\n",
            "Enter the Rollno:\n",
            "13\n",
            "Enter the Mark:\n",
            "65\n",
            "Name: Aswin \n",
            " Rollnumber: 13 \n",
            " Mark: 65\n"
          ]
        }
      ]
    },
    {
      "cell_type": "code",
      "source": [
        "def lar_list(list):\n",
        "  large = list[0]\n",
        "  for i in list:\n",
        "    if i>large:\n",
        "      large=i\n",
        "  return large\n",
        "\n",
        "l1=[12,3,47,10]\n",
        "print(\"The list is:\",l1,\"\\n\")\n",
        "print(lar_list(l1),\"is the largest number\")\n"
      ],
      "metadata": {
        "colab": {
          "base_uri": "https://localhost:8080/"
        },
        "id": "nDyH_oLxnnTV",
        "outputId": "471ecbab-0ec6-4132-c136-7bf517261080"
      },
      "execution_count": null,
      "outputs": [
        {
          "output_type": "stream",
          "name": "stdout",
          "text": [
            "The list is: [12, 3, 47, 10] \n",
            "\n",
            "47 is the largest number\n"
          ]
        }
      ]
    },
    {
      "cell_type": "code",
      "source": [
        "start = 1\n",
        "end = 10\n",
        "prev_num = 0\n",
        "\n",
        "for current_number in range(start, end + 1):\n",
        "    print(\"Current Number:\", current_number)\n",
        "    print(\"Previous Number:\", prev_num)\n",
        "    print(\"Sum:\", current_number + prev_num)\n",
        "    print()\n",
        "    prev_num = current_number"
      ],
      "metadata": {
        "colab": {
          "base_uri": "https://localhost:8080/"
        },
        "id": "JwhwTKPET0hn",
        "outputId": "162573cb-7e39-4903-d719-3aec383831f9"
      },
      "execution_count": 8,
      "outputs": [
        {
          "output_type": "stream",
          "name": "stdout",
          "text": [
            "Current Number: 1\n",
            "Previous Number: 0\n",
            "Sum: 1\n",
            "\n",
            "Current Number: 2\n",
            "Previous Number: 1\n",
            "Sum: 3\n",
            "\n",
            "Current Number: 3\n",
            "Previous Number: 2\n",
            "Sum: 5\n",
            "\n",
            "Current Number: 4\n",
            "Previous Number: 3\n",
            "Sum: 7\n",
            "\n",
            "Current Number: 5\n",
            "Previous Number: 4\n",
            "Sum: 9\n",
            "\n",
            "Current Number: 6\n",
            "Previous Number: 5\n",
            "Sum: 11\n",
            "\n",
            "Current Number: 7\n",
            "Previous Number: 6\n",
            "Sum: 13\n",
            "\n",
            "Current Number: 8\n",
            "Previous Number: 7\n",
            "Sum: 15\n",
            "\n",
            "Current Number: 9\n",
            "Previous Number: 8\n",
            "Sum: 17\n",
            "\n",
            "Current Number: 10\n",
            "Previous Number: 9\n",
            "Sum: 19\n",
            "\n"
          ]
        }
      ]
    },
    {
      "cell_type": "code",
      "source": [
        "l2=[10,20,33,46,55]\n",
        "div5 = list(filter (lambda i: (i%5 == 0),l2))\n",
        "print(\"The list is:\",l2,\"\\n\",\"The divisors of 5 are:\",div5)\n",
        "\n"
      ],
      "metadata": {
        "colab": {
          "base_uri": "https://localhost:8080/"
        },
        "id": "tzzAgUkhnnWT",
        "outputId": "78182102-16e1-40d3-cf34-eda876089752"
      },
      "execution_count": null,
      "outputs": [
        {
          "output_type": "stream",
          "name": "stdout",
          "text": [
            "The list is: [10, 20, 33, 46, 55] \n",
            " The divisors of 5 are: [10, 20, 55]\n"
          ]
        }
      ]
    },
    {
      "cell_type": "code",
      "source": [
        "\n",
        "num = int(input(\"Enter a number: \"))\n",
        "\n",
        "if num > 1:\n",
        "   for i in range(2,num):\n",
        "       if (num % i) == 0:\n",
        "           print(num,\"is not a prime number\")\n",
        "           break\n",
        "   else:\n",
        "       print(num,\"is a prime number\")\n",
        "else:\n",
        "   print(num,\"is not a prime number\")\n"
      ],
      "metadata": {
        "colab": {
          "base_uri": "https://localhost:8080/"
        },
        "id": "AR6hcdkynnZM",
        "outputId": "92f7812c-3dbc-4903-fa75-67a3ccfc20b1"
      },
      "execution_count": null,
      "outputs": [
        {
          "output_type": "stream",
          "name": "stdout",
          "text": [
            "Enter a number: 5\n",
            "5 is a prime number\n"
          ]
        }
      ]
    },
    {
      "cell_type": "code",
      "source": [
        "l5=[10,40,30,70]\n",
        "print(\"List before reversal is:\",l5)\n",
        "r_list = []\n",
        "for i in l5:\n",
        "  r_list = [i] + r_list\n",
        "print(\"List after reversal is:\",r_list)"
      ],
      "metadata": {
        "colab": {
          "base_uri": "https://localhost:8080/"
        },
        "id": "L3kpg4XlnncE",
        "outputId": "2bf28415-c36a-4dc7-8ee2-9c5727b3f20a"
      },
      "execution_count": 1,
      "outputs": [
        {
          "output_type": "stream",
          "name": "stdout",
          "text": [
            "List before reversal is: [10, 40, 30, 70]\n",
            "List after reversal is: [70, 30, 40, 10]\n"
          ]
        }
      ]
    },
    {
      "cell_type": "code",
      "source": [
        "def print_ptrn():\n",
        "  print(\"*\" * 1)\n",
        "  print(\"*\" * 2)\n",
        "  print(\"*\" * 3)\n",
        "  print(\"*\" * 4)\n",
        "\n",
        "print_ptrn()"
      ],
      "metadata": {
        "colab": {
          "base_uri": "https://localhost:8080/"
        },
        "id": "Pb8okNeWnniW",
        "outputId": "6c420341-474b-42cc-abb0-0a92a97cfa4e"
      },
      "execution_count": null,
      "outputs": [
        {
          "output_type": "stream",
          "name": "stdout",
          "text": [
            "*\n",
            "**\n",
            "***\n",
            "****\n"
          ]
        }
      ]
    },
    {
      "cell_type": "code",
      "source": [
        "num1 = int(input(\"Enter 1st number: \"))\n",
        "num2 = int(input(\"Enter 2nd number: \"))\n",
        "num3 = int(input(\"Enter 3rd number: \"))\n",
        "\n",
        "if(num1>num2) and (num1>num3):\n",
        "  print(num1,\"is greater\")\n",
        "elif(num2>num3) and (num2>num1):\n",
        "  print(num2,\"is greater\")\n",
        "else:\n",
        "  print(num3,\"is greater\")"
      ],
      "metadata": {
        "colab": {
          "base_uri": "https://localhost:8080/"
        },
        "id": "pxYMP8ANYZd1",
        "outputId": "5d59f283-e193-4366-dad2-8bf007c36cc9"
      },
      "execution_count": null,
      "outputs": [
        {
          "output_type": "stream",
          "name": "stdout",
          "text": [
            "Enter 1st number: 450\n",
            "Enter 2nd number: 500\n",
            "Enter 3rd number: 210\n",
            "500 is greater\n"
          ]
        }
      ]
    },
    {
      "cell_type": "code",
      "source": [
        "stars = 5\n",
        "\n",
        "for i in range(1, stars + 1):\n",
        "  print(\"*\" * i)\n",
        "for i in range(stars - 1,0,-1):\n",
        "     print(\"*\" * i)\n"
      ],
      "metadata": {
        "colab": {
          "base_uri": "https://localhost:8080/"
        },
        "id": "KUwysm2kYZgp",
        "outputId": "eb842b92-18b5-4d62-af9f-bf6ca93fbe0c"
      },
      "execution_count": null,
      "outputs": [
        {
          "output_type": "stream",
          "name": "stdout",
          "text": [
            "*\n",
            "**\n",
            "***\n",
            "****\n",
            "*****\n",
            "****\n",
            "***\n",
            "**\n",
            "*\n"
          ]
        }
      ]
    },
    {
      "cell_type": "markdown",
      "source": [
        "# Practice problems 2"
      ],
      "metadata": {
        "id": "Iox5p5YvUw8h"
      }
    },
    {
      "cell_type": "code",
      "source": [
        "ex = input(\"Enter a string:\")\n",
        "co ={}\n",
        "for i in ex:\n",
        "  if i in co:\n",
        "    co[i]+= 1\n",
        "  else:\n",
        "    co[i]=1\n",
        "\n",
        "print(co)"
      ],
      "metadata": {
        "colab": {
          "base_uri": "https://localhost:8080/"
        },
        "id": "VND8SGvsYZjU",
        "outputId": "676794fb-6806-46de-80e5-beaf7eb1f844"
      },
      "execution_count": 4,
      "outputs": [
        {
          "output_type": "stream",
          "name": "stdout",
          "text": [
            "Enter a string:assembly\n",
            "{'a': 1, 's': 2, 'e': 1, 'm': 1, 'b': 1, 'l': 1, 'y': 1}\n"
          ]
        }
      ]
    },
    {
      "cell_type": "code",
      "source": [
        "def maximum(a, b, c):\n",
        "    list = [a, b, c]\n",
        "    return max(list)\n",
        "\n",
        "a = 34\n",
        "b = 12\n",
        "c = 7\n",
        "print(maximum(a, b, c))"
      ],
      "metadata": {
        "colab": {
          "base_uri": "https://localhost:8080/"
        },
        "id": "rUwecLFvVw9n",
        "outputId": "7f69dd27-8f6f-4535-e380-e4a8fecc2719"
      },
      "execution_count": 5,
      "outputs": [
        {
          "output_type": "stream",
          "name": "stdout",
          "text": [
            "34\n"
          ]
        }
      ]
    },
    {
      "cell_type": "code",
      "source": [
        "def exponent(base,exp):\n",
        "  return base ** exp\n",
        "\n",
        "base = int(input(\"Enter the base number:\"))\n",
        "exp = int(input(\"Enter its exponent:\"))\n",
        "result = exponent(base,exp)\n",
        "print(result)"
      ],
      "metadata": {
        "colab": {
          "base_uri": "https://localhost:8080/"
        },
        "id": "KSjqqqmkYZo_",
        "outputId": "9bae8bdb-1cd7-44d7-a683-2c3beb2ba189"
      },
      "execution_count": null,
      "outputs": [
        {
          "output_type": "stream",
          "name": "stdout",
          "text": [
            "Enter the base number:5\n",
            "Enter its exponent:2\n",
            "25\n"
          ]
        }
      ]
    },
    {
      "cell_type": "code",
      "source": [
        "def soc(n):\n",
        "  soc = 0\n",
        "\n",
        "  for i in range(1,n):\n",
        "    soc += i **3\n",
        "\n",
        "  return soc\n",
        "\n",
        "ran =  int(input(\"Enter the range to find cube: \"))\n",
        "if ran > 1:\n",
        "  cube = soc(ran)\n",
        "  print(\"sum of cubes of +ve integer less then\",ran,\"is:\",cube)\n",
        "else:\n",
        "  print(\"Negative numbers are not accepted at the moment\")"
      ],
      "metadata": {
        "colab": {
          "base_uri": "https://localhost:8080/"
        },
        "id": "ac63HvFYYZsV",
        "outputId": "53b1a426-7879-47df-8fc6-c57a6b00f0bf"
      },
      "execution_count": 6,
      "outputs": [
        {
          "output_type": "stream",
          "name": "stdout",
          "text": [
            "Enter the range to find cube: 4\n",
            "sum of cubes of +ve integer less then 4 is: 36\n"
          ]
        }
      ]
    },
    {
      "cell_type": "code",
      "source": [
        "for i in range(1, 11):\n",
        "    if i % 2 == 0 and i % 5 == 0:\n",
        "        print(\"FizzBuzz\")\n",
        "    elif i % 2 == 0:\n",
        "        print(\"Fizz\")\n",
        "    elif i % 5 == 0:\n",
        "        print(\"Buzz\")\n",
        "    else:\n",
        "        print(i)"
      ],
      "metadata": {
        "colab": {
          "base_uri": "https://localhost:8080/"
        },
        "id": "Eq_h4yzFWRDw",
        "outputId": "95e90738-2110-4e6c-b4cf-238e3a78ac91"
      },
      "execution_count": 7,
      "outputs": [
        {
          "output_type": "stream",
          "name": "stdout",
          "text": [
            "1\n",
            "Fizz\n",
            "3\n",
            "Fizz\n",
            "Buzz\n",
            "Fizz\n",
            "7\n",
            "Fizz\n",
            "9\n",
            "FizzBuzz\n"
          ]
        }
      ]
    },
    {
      "cell_type": "code",
      "source": [
        "def lele(list):\n",
        "  return max(set(list),key = list.count)\n",
        "\n",
        "listtt=[2,3,4,2,5,2]\n",
        "print(\"Most frequent element in\",listtt,\"is :\",lele(listtt))"
      ],
      "metadata": {
        "id": "c1JRapM2hYZc",
        "colab": {
          "base_uri": "https://localhost:8080/"
        },
        "outputId": "06cabe86-4ecb-49f8-aded-689ebd6c9641"
      },
      "execution_count": null,
      "outputs": [
        {
          "output_type": "stream",
          "name": "stdout",
          "text": [
            "Most frequent element in [2, 3, 4, 2, 5, 2] is : 2\n"
          ]
        }
      ]
    },
    {
      "cell_type": "code",
      "source": [
        "def sos(numbers):\n",
        "  return sum(num ** 2 for num in numbers)\n",
        "\n",
        "ln = [2,1,3,1]\n",
        "print(\"Sum of squares of\",ln,\"is :\",sos(ln))\n"
      ],
      "metadata": {
        "id": "GPrHQUW7hYc8",
        "colab": {
          "base_uri": "https://localhost:8080/"
        },
        "outputId": "02348bce-8272-4693-ab78-6cfd3d9590ff"
      },
      "execution_count": null,
      "outputs": [
        {
          "output_type": "stream",
          "name": "stdout",
          "text": [
            "Sum of squares of [2, 1, 3, 1] is : 15\n"
          ]
        }
      ]
    },
    {
      "cell_type": "code",
      "source": [
        "for i in range(1,16):\n",
        "  if (i % 2 == 0):\n",
        "    print(i,\"-\",\"even\")\n",
        "  else:\n",
        "    print(i,\"-\",\"odd\")"
      ],
      "metadata": {
        "id": "3GtDGNgJg87p",
        "colab": {
          "base_uri": "https://localhost:8080/"
        },
        "outputId": "bd02a8ba-66b1-4a3f-e4d3-3316ed3d085c"
      },
      "execution_count": null,
      "outputs": [
        {
          "output_type": "stream",
          "name": "stdout",
          "text": [
            "1 - odd\n",
            "2 - even\n",
            "3 - odd\n",
            "4 - even\n",
            "5 - odd\n",
            "6 - even\n",
            "7 - odd\n",
            "8 - even\n",
            "9 - odd\n",
            "10 - even\n",
            "11 - odd\n",
            "12 - even\n",
            "13 - odd\n",
            "14 - even\n",
            "15 - odd\n"
          ]
        }
      ]
    },
    {
      "cell_type": "code",
      "source": [
        "def ctf(celsius):\n",
        "  return (celsius * 9/5) + 32\n",
        "\n",
        "def ftc(fahreheit):\n",
        "  return (fahreheit - 32) * 5/9\n",
        "\n",
        "temp_fahr = 41\n",
        "temp_to_cel = ftc(temp_fahr)\n",
        "print(\"Temperature in celsius is:\" ,temp_to_cel)\n",
        "convert_cel_fahr = ctf(temp_to_cel)\n",
        "print(\"Temperature converted back to Fahreheit is:\" ,convert_cel_fahr)"
      ],
      "metadata": {
        "colab": {
          "base_uri": "https://localhost:8080/"
        },
        "id": "6fHnKFcV68z3",
        "outputId": "ff024fd6-989c-4e21-b367-bc05513503ab"
      },
      "execution_count": null,
      "outputs": [
        {
          "output_type": "stream",
          "name": "stdout",
          "text": [
            "Temperature in celsius is: 5.0\n",
            "Temperature converted back to Fahreheit is: 41.0\n"
          ]
        }
      ]
    },
    {
      "cell_type": "code",
      "source": [
        "def fact(n):\n",
        "  if(n == 0):\n",
        "    return 1\n",
        "  else:\n",
        "    return n * fact(n-1)\n",
        "\n",
        "num = int(input(\"Enter a number to find its factorial:\"))\n",
        "print(\"Factorial of\",num,\"is :\",fact(num))"
      ],
      "metadata": {
        "colab": {
          "base_uri": "https://localhost:8080/"
        },
        "id": "bEOzl9Z6682b",
        "outputId": "0c918d2a-8cc7-4c72-db22-293a6b841468"
      },
      "execution_count": null,
      "outputs": [
        {
          "output_type": "stream",
          "name": "stdout",
          "text": [
            "Enter a number to find its factorial:6\n",
            "Factorial of 6 is : 720\n"
          ]
        }
      ]
    },
    {
      "cell_type": "markdown",
      "source": [
        "\n",
        "# Discord practice problem\n",
        "\n"
      ],
      "metadata": {
        "id": "Z0DVYUGTNi7D"
      }
    },
    {
      "cell_type": "code",
      "source": [
        "First = input(\"Enter your first name:\")\n",
        "Last = input(\"Enter your last name:\")\n",
        "\n",
        "name = First +' '+Last\n",
        "print(\"Hello\",name,\"! You just delved into python.\")"
      ],
      "metadata": {
        "id": "R_mPa3xyAJxh",
        "colab": {
          "base_uri": "https://localhost:8080/"
        },
        "outputId": "d013c051-c482-4c5b-eae0-14e402dc8a94"
      },
      "execution_count": null,
      "outputs": [
        {
          "output_type": "stream",
          "name": "stdout",
          "text": [
            "Enter your first name:albert\n",
            "Enter your last name:einstein\n",
            "Hello albert einstein ! You just delved into python.\n"
          ]
        }
      ]
    },
    {
      "cell_type": "code",
      "source": [
        "n = int(input(\"Enter the value:\"))\n",
        "\n",
        "if (n % 2 != 0):\n",
        "  print(n,\"is odd\")\n",
        "elif n >= 2 and n <= 5:\n",
        "  print(\"not weird\")\n",
        "elif n >= 6 and n <= 20:\n",
        "  print(\"weird\")\n",
        "else:\n",
        "  print(\"not weird\")\n"
      ],
      "metadata": {
        "id": "z4EAVSe3685L",
        "colab": {
          "base_uri": "https://localhost:8080/"
        },
        "outputId": "45cfe4c4-bf03-4822-df04-b73a891bc346"
      },
      "execution_count": null,
      "outputs": [
        {
          "output_type": "stream",
          "name": "stdout",
          "text": [
            "Enter the value:8\n",
            "weird\n"
          ]
        }
      ]
    },
    {
      "cell_type": "code",
      "source": [],
      "metadata": {
        "id": "SQ9IxpUZ688n"
      },
      "execution_count": null,
      "outputs": []
    },
    {
      "cell_type": "code",
      "source": [],
      "metadata": {
        "id": "q8YWK7DkYZ_n"
      },
      "execution_count": null,
      "outputs": []
    }
  ]
}